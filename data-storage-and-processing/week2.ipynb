{
 "cells": [
  {
   "cell_type": "code",
   "execution_count": 1,
   "metadata": {},
   "outputs": [],
   "source": [
    "import pandas as ps"
   ]
  },
  {
   "cell_type": "code",
   "execution_count": 173,
   "metadata": {},
   "outputs": [],
   "source": [
    "# Week 2, Task 1\n",
    "df = ps.read_csv('~/Downloads/Bac_final_fixed.csv', index_col='student_id')\n",
    "df.head()"
   ]
  },
  {
   "cell_type": "code",
   "execution_count": 32,
   "metadata": {},
   "outputs": [
    {
     "data": {
      "text/plain": [
       "95.51724137931035"
      ]
     },
     "execution_count": 32,
     "metadata": {},
     "output_type": "execute_result"
    }
   ],
   "source": [
    "# subtask 1\n",
    "df[[i.startswith('W') for i in df['Group']]].iloc[:, 7].mean()"
   ]
  },
  {
   "cell_type": "code",
   "execution_count": 46,
   "metadata": {},
   "outputs": [
    {
     "data": {
      "text/html": [
       "<div>\n",
       "<style scoped>\n",
       "    .dataframe tbody tr th:only-of-type {\n",
       "        vertical-align: middle;\n",
       "    }\n",
       "\n",
       "    .dataframe tbody tr th {\n",
       "        vertical-align: top;\n",
       "    }\n",
       "\n",
       "    .dataframe thead th {\n",
       "        text-align: right;\n",
       "    }\n",
       "</style>\n",
       "<table border=\"1\" class=\"dataframe\">\n",
       "  <thead>\n",
       "    <tr style=\"text-align: right;\">\n",
       "      <th></th>\n",
       "      <th>Task 6: Task. Information security</th>\n",
       "    </tr>\n",
       "    <tr>\n",
       "      <th>Group</th>\n",
       "      <th></th>\n",
       "    </tr>\n",
       "  </thead>\n",
       "  <tbody>\n",
       "    <tr>\n",
       "      <th>U3147</th>\n",
       "      <td>63.833333</td>\n",
       "    </tr>\n",
       "    <tr>\n",
       "      <th>U3148</th>\n",
       "      <td>59.045455</td>\n",
       "    </tr>\n",
       "    <tr>\n",
       "      <th>U3175</th>\n",
       "      <td>62.962963</td>\n",
       "    </tr>\n",
       "    <tr>\n",
       "      <th>U3176</th>\n",
       "      <td>59.823529</td>\n",
       "    </tr>\n",
       "    <tr>\n",
       "      <th>U3177</th>\n",
       "      <td>59.960000</td>\n",
       "    </tr>\n",
       "  </tbody>\n",
       "</table>\n",
       "</div>"
      ],
      "text/plain": [
       "       Task 6: Task. Information security\n",
       "Group                                    \n",
       "U3147                           63.833333\n",
       "U3148                           59.045455\n",
       "U3175                           62.962963\n",
       "U3176                           59.823529\n",
       "U3177                           59.960000"
      ]
     },
     "execution_count": 46,
     "metadata": {},
     "output_type": "execute_result"
    }
   ],
   "source": [
    "# subtask 2\n",
    "u_studs = df[[i.startswith('U') for i in df['Group']]].iloc[:, [0, 6]]\n",
    "u_studs.groupby('Group').mean()"
   ]
  },
  {
   "cell_type": "code",
   "execution_count": 63,
   "metadata": {},
   "outputs": [
    {
     "name": "stdout",
     "output_type": "stream",
     "text": [
      "<class 'pandas.core.frame.DataFrame'>\n",
      "Int64Index: 179 entries, 125699 to 1300748\n",
      "Data columns (total 17 columns):\n",
      " #   Column                                                          Non-Null Count  Dtype \n",
      "---  ------                                                          --------------  ----- \n",
      " 0   Group                                                           179 non-null    object\n",
      " 1   Task 1: Task. Computer architecture and OS                      179 non-null    int64 \n",
      " 2   Task 2: Task. Programming technologies                          179 non-null    int64 \n",
      " 3   Task 3: Task. Networks technologies                             179 non-null    int64 \n",
      " 4   Task 4: Task. Digital ethics                                    179 non-null    int64 \n",
      " 5   Task 5: Task. Virtual augmented and mixed reality technologies  179 non-null    int64 \n",
      " 6   Task 6: Task. Information security                              179 non-null    int64 \n",
      " 7   Task 7: Task. Internet and Web technologies                     179 non-null    int64 \n",
      " 8   Task 8: Task. Digital economy. Blockchain                       179 non-null    int64 \n",
      " 9   Task 9: Task. Introduction to personal information security     179 non-null    int64 \n",
      " 10  Task 10: Task. Built in systems                                 179 non-null    int64 \n",
      " 11  Task 11: Task. Quant technologies                               179 non-null    int64 \n",
      " 12  Task 12: Task. Smartthings vs. secure living                    179 non-null    int64 \n",
      " 13  Task 13: Task. Internet communications culture                  179 non-null    int64 \n",
      " 14  Task 14: Task. Digital education                                179 non-null    int64 \n",
      " 15  Task 15: Task. Digital humanities                               179 non-null    int64 \n",
      " 16  Essay                                                           179 non-null    int64 \n",
      "dtypes: int64(16), object(1)\n",
      "memory usage: 25.2+ KB\n"
     ]
    }
   ],
   "source": [
    "# subtask 3\n",
    "def filter_fun(x):\n",
    "    return x.sum() == 0\n",
    "    \n",
    "df[df.aggregate(lambda x: x[1:].sum() == 0, axis=1)]"
   ]
  },
  {
   "cell_type": "code",
   "execution_count": 175,
   "metadata": {},
   "outputs": [
    {
     "data": {
      "text/html": [
       "<div>\n",
       "<style scoped>\n",
       "    .dataframe tbody tr th:only-of-type {\n",
       "        vertical-align: middle;\n",
       "    }\n",
       "\n",
       "    .dataframe tbody tr th {\n",
       "        vertical-align: top;\n",
       "    }\n",
       "\n",
       "    .dataframe thead th {\n",
       "        text-align: right;\n",
       "    }\n",
       "</style>\n",
       "<table border=\"1\" class=\"dataframe\">\n",
       "  <thead>\n",
       "    <tr style=\"text-align: right;\">\n",
       "      <th></th>\n",
       "      <th>LINE_TYPE</th>\n",
       "      <th>LINE</th>\n",
       "      <th>CAR</th>\n",
       "    </tr>\n",
       "  </thead>\n",
       "  <tbody>\n",
       "    <tr>\n",
       "      <th>0</th>\n",
       "      <td>SINGLE</td>\n",
       "      <td>500</td>\n",
       "      <td>490</td>\n",
       "    </tr>\n",
       "    <tr>\n",
       "      <th>1</th>\n",
       "      <td>SINGLE</td>\n",
       "      <td>500</td>\n",
       "      <td>490</td>\n",
       "    </tr>\n",
       "    <tr>\n",
       "      <th>2</th>\n",
       "      <td>SINGLE</td>\n",
       "      <td>500</td>\n",
       "      <td>490</td>\n",
       "    </tr>\n",
       "    <tr>\n",
       "      <th>3</th>\n",
       "      <td>SINGLE</td>\n",
       "      <td>500</td>\n",
       "      <td>490</td>\n",
       "    </tr>\n",
       "    <tr>\n",
       "      <th>4</th>\n",
       "      <td>SINGLE</td>\n",
       "      <td>500</td>\n",
       "      <td>490</td>\n",
       "    </tr>\n",
       "  </tbody>\n",
       "</table>\n",
       "</div>"
      ],
      "text/plain": [
       "  LINE_TYPE  LINE  CAR\n",
       "0    SINGLE   500  490\n",
       "1    SINGLE   500  490\n",
       "2    SINGLE   500  490\n",
       "3    SINGLE   500  490\n",
       "4    SINGLE   500  490"
      ]
     },
     "execution_count": 175,
     "metadata": {},
     "output_type": "execute_result"
    }
   ],
   "source": [
    "# Week 2, Task 2\n",
    "df = ps.read_csv('~/Downloads/car90.csv')\n",
    "df.head()"
   ]
  },
  {
   "cell_type": "code",
   "execution_count": 176,
   "metadata": {},
   "outputs": [],
   "source": [
    "fixed_car_values = []\n",
    "\n",
    "for v in df.iloc():\n",
    "    i = v.name\n",
    "    if v['CAR'] < 500:\n",
    "        fixed_car_values.append(v['CAR'])\n",
    "        continue\n",
    "    avg_val = (df.loc[i - 1]['CAR'] + df.loc[i + 1]['CAR']) / 2\n",
    "    fixed_car_values.append(avg_val)\n",
    "    \n",
    "df['CAR'] = fixed_car_values"
   ]
  },
  {
   "cell_type": "code",
   "execution_count": 177,
   "metadata": {},
   "outputs": [],
   "source": [
    "import matplotlib.pyplot as plt"
   ]
  },
  {
   "cell_type": "code",
   "execution_count": 178,
   "metadata": {},
   "outputs": [
    {
     "data": {
      "text/plain": [
       "[<matplotlib.lines.Line2D at 0x126901510>]"
      ]
     },
     "execution_count": 178,
     "metadata": {},
     "output_type": "execute_result"
    },
    {
     "data": {
      "image/png": "[encoded data removed]",
      "text/plain": [
       "<Figure size 432x288 with 1 Axes>"
      ]
     },
     "metadata": {
      "needs_background": "light"
     },
     "output_type": "display_data"
    }
   ],
   "source": [
    "def ord_dot(x):\n",
    "    if x == 'SINGLE':\n",
    "        return 0\n",
    "    if x == 'DOUBLE':\n",
    "        return 1\n",
    "    return 2\n",
    "\n",
    "colors = [ord_dot(x) for x in df['LINE_TYPE']]\n",
    "plt.scatter(range(0, 500), df['LINE'], c=colors)\n",
    "plt.plot(df['CAR'])"
   ]
  },
  {
   "cell_type": "code",
   "execution_count": null,
   "metadata": {},
   "outputs": [],
   "source": []
  }
 ],
 "metadata": {
  "kernelspec": {
   "display_name": "Python 3",
   "language": "python",
   "name": "python3"
  },
  "language_info": {
   "codemirror_mode": {
    "name": "ipython",
    "version": 3
   },
   "file_extension": ".py",
   "mimetype": "text/x-python",
   "name": "python",
   "nbconvert_exporter": "python",
   "pygments_lexer": "ipython3",
   "version": "3.7.5"
  }
 },
 "nbformat": 4,
 "nbformat_minor": 4
}
